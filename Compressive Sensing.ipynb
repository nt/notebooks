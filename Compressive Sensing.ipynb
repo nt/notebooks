{
 "metadata": {
  "name": "",
  "signature": "sha256:894a405475bfbe74ac802eedbee312539a58722a3b1df7467eabaf6ec02f4978"
 },
 "nbformat": 3,
 "nbformat_minor": 0,
 "worksheets": [
  {
   "cells": [
    {
     "cell_type": "code",
     "collapsed": false,
     "input": [
      "import numpy as np\n",
      "\n",
      "# Domain input size\n",
      "M = 10\n",
      "# Domain output size\n",
      "N = 300\n",
      "\n",
      "# measurement matrix\n",
      "rng = np.random.RandomState(1234)\n",
      "theta = rng.uniform(-(1./(2*N)), (1./(2*N)), (M,N))"
     ],
     "language": "python",
     "metadata": {},
     "outputs": [],
     "prompt_number": 23
    },
    {
     "cell_type": "code",
     "collapsed": false,
     "input": [
      "import theano\n",
      "import theano.tensor as T\n",
      "\n",
      "learning_rate = 1e-3\n",
      "\n",
      "t_theta = T.dmatrix('theta')\n",
      "t_s = theano.shared(value=rng.uniform(-(1./(2*N)), (1./(2*N)), (N,)), name='s')\n",
      "t_y = T.dvector('y')\n",
      "\n",
      "t_y_pred = t_theta.dot(t_s)\n",
      "\n",
      "t_cost = T.sum(abs(t_s))# + ((t_y - t_y_pred)**2).sum()\n",
      "\n",
      "t_ds = T.grad(t_cost, t_s)\n",
      "\n",
      "#updates=[(t_s, t_s - learning_rate*t_ds), (t_s, t_s - learning_rate*t_ds)],\n",
      "t_f = theano.function([t_y], [t_s, t_cost], updates=[(t_s, t_s - learning_rate*t_ds)],\n",
      "                      givens={ t_theta: theta }, allow_input_downcast=True)"
     ],
     "language": "python",
     "metadata": {},
     "outputs": [
      {
       "ename": "UnusedInputError",
       "evalue": "theano.function was asked to create a function computing outputs given certain inputs, but the provided input variable at index 0 is not part of the computational graph needed to compute the outputs: y.\nTo make this error into a warning, you can pass the parameter on_unused_input='warn' to theano.function. To disable it completely, use on_unused_input='ignore'.",
       "output_type": "pyerr",
       "traceback": [
        "\u001b[1;31m---------------------------------------------------------------------------\u001b[0m\n\u001b[1;31mUnusedInputError\u001b[0m                          Traceback (most recent call last)",
        "\u001b[1;32m<ipython-input-39-2a1e354ced75>\u001b[0m in \u001b[0;36m<module>\u001b[1;34m()\u001b[0m\n\u001b[0;32m     16\u001b[0m \u001b[1;31m#updates=[(t_s, t_s - learning_rate*t_ds), (t_s, t_s - learning_rate*t_ds)],\u001b[0m\u001b[1;33m\u001b[0m\u001b[1;33m\u001b[0m\u001b[0m\n\u001b[0;32m     17\u001b[0m t_f = theano.function([t_y], [t_s, t_cost], updates=[(t_s, t_s - learning_rate*t_ds)],\n\u001b[1;32m---> 18\u001b[1;33m                       givens={ t_theta: theta }, allow_input_downcast=True)\n\u001b[0m",
        "\u001b[1;32m/data/.virtualenvs/env/local/lib/python2.7/site-packages/theano/compile/function.pyc\u001b[0m in \u001b[0;36mfunction\u001b[1;34m(inputs, outputs, mode, updates, givens, no_default_updates, accept_inplace, name, rebuild_strict, allow_input_downcast, profile, on_unused_input)\u001b[0m\n\u001b[0;32m    263\u001b[0m                 \u001b[0mallow_input_downcast\u001b[0m\u001b[1;33m=\u001b[0m\u001b[0mallow_input_downcast\u001b[0m\u001b[1;33m,\u001b[0m\u001b[1;33m\u001b[0m\u001b[0m\n\u001b[0;32m    264\u001b[0m                 \u001b[0mon_unused_input\u001b[0m\u001b[1;33m=\u001b[0m\u001b[0mon_unused_input\u001b[0m\u001b[1;33m,\u001b[0m\u001b[1;33m\u001b[0m\u001b[0m\n\u001b[1;32m--> 265\u001b[1;33m                 profile=profile)\n\u001b[0m\u001b[0;32m    266\u001b[0m     \u001b[1;31m# We need to add the flag check_aliased inputs if we have any mutable or\u001b[0m\u001b[1;33m\u001b[0m\u001b[1;33m\u001b[0m\u001b[0m\n\u001b[0;32m    267\u001b[0m     \u001b[1;31m# borrowed used defined inputs\u001b[0m\u001b[1;33m\u001b[0m\u001b[1;33m\u001b[0m\u001b[0m\n",
        "\u001b[1;32m/data/.virtualenvs/env/local/lib/python2.7/site-packages/theano/compile/pfunc.pyc\u001b[0m in \u001b[0;36mpfunc\u001b[1;34m(params, outputs, mode, updates, givens, no_default_updates, accept_inplace, name, rebuild_strict, allow_input_downcast, profile, on_unused_input)\u001b[0m\n\u001b[0;32m    509\u001b[0m     return orig_function(inputs, cloned_outputs, mode,\n\u001b[0;32m    510\u001b[0m             \u001b[0maccept_inplace\u001b[0m\u001b[1;33m=\u001b[0m\u001b[0maccept_inplace\u001b[0m\u001b[1;33m,\u001b[0m \u001b[0mname\u001b[0m\u001b[1;33m=\u001b[0m\u001b[0mname\u001b[0m\u001b[1;33m,\u001b[0m \u001b[0mprofile\u001b[0m\u001b[1;33m=\u001b[0m\u001b[0mprofile\u001b[0m\u001b[1;33m,\u001b[0m\u001b[1;33m\u001b[0m\u001b[0m\n\u001b[1;32m--> 511\u001b[1;33m             on_unused_input=on_unused_input)\n\u001b[0m\u001b[0;32m    512\u001b[0m \u001b[1;33m\u001b[0m\u001b[0m\n\u001b[0;32m    513\u001b[0m \u001b[1;33m\u001b[0m\u001b[0m\n",
        "\u001b[1;32m/data/.virtualenvs/env/local/lib/python2.7/site-packages/theano/compile/function_module.pyc\u001b[0m in \u001b[0;36morig_function\u001b[1;34m(inputs, outputs, mode, accept_inplace, name, profile, on_unused_input)\u001b[0m\n\u001b[0;32m   1338\u001b[0m                    \u001b[0maccept_inplace\u001b[0m\u001b[1;33m=\u001b[0m\u001b[0maccept_inplace\u001b[0m\u001b[1;33m,\u001b[0m\u001b[1;33m\u001b[0m\u001b[0m\n\u001b[0;32m   1339\u001b[0m                    \u001b[0mprofile\u001b[0m\u001b[1;33m=\u001b[0m\u001b[0mprofile\u001b[0m\u001b[1;33m,\u001b[0m\u001b[1;33m\u001b[0m\u001b[0m\n\u001b[1;32m-> 1340\u001b[1;33m                    \u001b[0mon_unused_input\u001b[0m\u001b[1;33m=\u001b[0m\u001b[0mon_unused_input\u001b[0m\u001b[1;33m)\u001b[0m\u001b[1;33m.\u001b[0m\u001b[0mcreate\u001b[0m\u001b[1;33m(\u001b[0m\u001b[1;33m\u001b[0m\u001b[0m\n\u001b[0m\u001b[0;32m   1341\u001b[0m                        defaults)\n\u001b[0;32m   1342\u001b[0m \u001b[1;33m\u001b[0m\u001b[0m\n",
        "\u001b[1;32m/data/.virtualenvs/env/local/lib/python2.7/site-packages/theano/compile/function_module.pyc\u001b[0m in \u001b[0;36m__init__\u001b[1;34m(self, inputs, outputs, mode, accept_inplace, function_builder, profile, on_unused_input)\u001b[0m\n\u001b[0;32m   1025\u001b[0m \u001b[1;33m\u001b[0m\u001b[0m\n\u001b[0;32m   1026\u001b[0m         \u001b[1;31m# Check if some input variables are unused\u001b[0m\u001b[1;33m\u001b[0m\u001b[1;33m\u001b[0m\u001b[0m\n\u001b[1;32m-> 1027\u001b[1;33m         \u001b[0mself\u001b[0m\u001b[1;33m.\u001b[0m\u001b[0m_check_unused_inputs\u001b[0m\u001b[1;33m(\u001b[0m\u001b[0minputs\u001b[0m\u001b[1;33m,\u001b[0m \u001b[0moutputs\u001b[0m\u001b[1;33m,\u001b[0m \u001b[0mon_unused_input\u001b[0m\u001b[1;33m)\u001b[0m\u001b[1;33m\u001b[0m\u001b[0m\n\u001b[0m\u001b[0;32m   1028\u001b[0m \u001b[1;33m\u001b[0m\u001b[0m\n\u001b[0;32m   1029\u001b[0m         \u001b[1;31m# Make a list of (SymbolicInput|SymblicInputKits, indices, [SymbolicInput,...]), one\u001b[0m\u001b[1;33m\u001b[0m\u001b[1;33m\u001b[0m\u001b[0m\n",
        "\u001b[1;32m/data/.virtualenvs/env/local/lib/python2.7/site-packages/theano/compile/function_module.pyc\u001b[0m in \u001b[0;36m_check_unused_inputs\u001b[1;34m(self, inputs, outputs, on_unused_input)\u001b[0m\n\u001b[0;32m   1130\u001b[0m                     \u001b[0mwarnings\u001b[0m\u001b[1;33m.\u001b[0m\u001b[0mwarn\u001b[0m\u001b[1;33m(\u001b[0m\u001b[0mmsg\u001b[0m \u001b[1;33m%\u001b[0m \u001b[1;33m(\u001b[0m\u001b[0minputs\u001b[0m\u001b[1;33m.\u001b[0m\u001b[0mindex\u001b[0m\u001b[1;33m(\u001b[0m\u001b[0mi\u001b[0m\u001b[1;33m)\u001b[0m\u001b[1;33m,\u001b[0m \u001b[0mi\u001b[0m\u001b[1;33m.\u001b[0m\u001b[0mvariable\u001b[0m\u001b[1;33m,\u001b[0m \u001b[0mwarn_msg\u001b[0m\u001b[1;33m)\u001b[0m\u001b[1;33m,\u001b[0m \u001b[0mstacklevel\u001b[0m\u001b[1;33m=\u001b[0m\u001b[1;36m6\u001b[0m\u001b[1;33m)\u001b[0m\u001b[1;33m\u001b[0m\u001b[0m\n\u001b[0;32m   1131\u001b[0m                 \u001b[1;32melif\u001b[0m \u001b[0mon_unused_input\u001b[0m \u001b[1;33m==\u001b[0m \u001b[1;34m'raise'\u001b[0m\u001b[1;33m:\u001b[0m\u001b[1;33m\u001b[0m\u001b[0m\n\u001b[1;32m-> 1132\u001b[1;33m                     \u001b[1;32mraise\u001b[0m \u001b[0mUnusedInputError\u001b[0m\u001b[1;33m(\u001b[0m\u001b[0mmsg\u001b[0m \u001b[1;33m%\u001b[0m \u001b[1;33m(\u001b[0m\u001b[0minputs\u001b[0m\u001b[1;33m.\u001b[0m\u001b[0mindex\u001b[0m\u001b[1;33m(\u001b[0m\u001b[0mi\u001b[0m\u001b[1;33m)\u001b[0m\u001b[1;33m,\u001b[0m \u001b[0mi\u001b[0m\u001b[1;33m.\u001b[0m\u001b[0mvariable\u001b[0m\u001b[1;33m,\u001b[0m \u001b[0merr_msg\u001b[0m\u001b[1;33m)\u001b[0m\u001b[1;33m)\u001b[0m\u001b[1;33m\u001b[0m\u001b[0m\n\u001b[0m\u001b[0;32m   1133\u001b[0m                 \u001b[1;32melse\u001b[0m\u001b[1;33m:\u001b[0m\u001b[1;33m\u001b[0m\u001b[0m\n\u001b[0;32m   1134\u001b[0m                     raise ValueError((\"Invalid value for keyword \"\n",
        "\u001b[1;31mUnusedInputError\u001b[0m: theano.function was asked to create a function computing outputs given certain inputs, but the provided input variable at index 0 is not part of the computational graph needed to compute the outputs: y.\nTo make this error into a warning, you can pass the parameter on_unused_input='warn' to theano.function. To disable it completely, use on_unused_input='ignore'."
       ]
      }
     ],
     "prompt_number": 39
    },
    {
     "cell_type": "code",
     "collapsed": false,
     "input": [
      "y = rng.uniform(-(1./(2*M)), (1./(2*M)), (M,))"
     ],
     "language": "python",
     "metadata": {},
     "outputs": [],
     "prompt_number": 31
    },
    {
     "cell_type": "code",
     "collapsed": false,
     "input": [
      "t_s, t_cost = t_f(y)"
     ],
     "language": "python",
     "metadata": {},
     "outputs": [],
     "prompt_number": 36
    },
    {
     "cell_type": "code",
     "collapsed": false,
     "input": [
      "for i in range(0, 1000):\n",
      "    t_s, t_cost = t_f(y)\n",
      "    if i % 100 == 0:\n",
      "        print t_cost\n",
      "print t_s"
     ],
     "language": "python",
     "metadata": {},
     "outputs": [
      {
       "output_type": "stream",
       "stream": "stdout",
       "text": [
        "0.141930891918\n",
        "0.141810122462\n",
        "0.141704913976\n",
        "0.14159176095\n",
        "0.141543049792\n",
        "0.141492889058"
       ]
      },
      {
       "output_type": "stream",
       "stream": "stdout",
       "text": [
        "\n",
        "0.141490803775\n",
        "0.141597228954\n",
        "0.141780190817\n",
        "0.141914143962\n",
        "[ -1.55815436e-04  -7.92259839e-04  -9.51009930e-04   7.73677429e-06\n",
        "  -3.50645015e-04   8.91520424e-04   4.61565737e-04  -6.77404472e-04\n",
        "   9.42815827e-05  -7.17084014e-04  -7.79057005e-04   2.26340459e-04\n",
        "  -6.03176106e-04  -8.19507018e-04  -8.42525922e-04  -1.30256175e-04\n",
        "   5.34977525e-05  -8.22548294e-04   9.20279249e-04   5.87456577e-05\n",
        "   1.87997704e-04   8.32009821e-04  -5.13858777e-04   5.28255541e-04\n",
        "  -8.59658954e-04   7.82479735e-04   8.64645540e-04   5.72695024e-04\n",
        "  -5.80193613e-04   7.78733045e-04  -8.29746301e-04   4.18819258e-04\n",
        "   2.29873529e-04   7.41832242e-04  -5.65252678e-04   7.49098810e-05\n",
        "   4.76943535e-04   4.23806515e-05  -6.91012374e-04   5.63201668e-04\n",
        "   7.24779956e-04   5.54101223e-04   1.73355587e-04  -7.05200822e-04\n",
        "  -2.10210829e-04  -4.90303623e-04   7.76477841e-04  -2.81737173e-04\n",
        "   9.05854164e-04  -6.98351847e-04  -9.95009230e-04  -9.63033888e-04\n",
        "   7.04033566e-04  -1.67830893e-04   9.48456645e-04   9.23936155e-04\n",
        "   5.89249903e-04  -9.28480906e-04  -5.91761673e-04  -8.73694183e-04\n",
        "   8.89955592e-04   2.28398978e-05   4.29312747e-04  -6.05366673e-04\n",
        "  -7.88059293e-04  -4.21731343e-05  -8.02300543e-04   9.27871842e-04\n",
        "   1.65175100e-04   9.89137147e-04  -7.82088735e-04   6.47900267e-04\n",
        "  -8.03798799e-04   9.14576937e-04  -2.93063457e-05  -2.52279895e-04\n",
        "   2.03583612e-05   4.58620230e-04  -2.57354257e-04  -4.00906142e-04\n",
        "   8.75917557e-04   9.20035396e-04  -7.46194949e-04   7.60576687e-04\n",
        "   3.11873674e-04   8.33405220e-04   2.26612348e-04  -4.12133771e-04\n",
        "  -9.32465434e-04  -6.20151670e-04   3.74855228e-04   8.52346248e-04\n",
        "  -5.74457212e-04  -4.12715572e-05  -2.46955050e-04   4.57591224e-04\n",
        "   5.09165284e-04   2.36396388e-04  -3.99330843e-04  -9.45719919e-04\n",
        "  -4.82752352e-04   1.49394189e-04   5.37998278e-04   6.61236833e-04\n",
        "   1.96131264e-04   9.70953350e-04  -7.70175603e-04   4.92123891e-04\n",
        "   6.63183801e-04   7.97448729e-04   2.62514567e-04   7.89104030e-04\n",
        "  -3.16702056e-04   3.94896769e-04  -7.69579730e-05   2.36329444e-04\n",
        "  -6.83188784e-04  -5.39187893e-04   9.28779356e-04   8.85882886e-04\n",
        "  -5.11024701e-04   4.28173397e-04  -3.60306923e-04   3.55432394e-04\n",
        "  -7.73590658e-05  -4.80818165e-04  -5.04492976e-04   7.08277787e-04\n",
        "   5.26354623e-04  -6.41642479e-04  -9.00748613e-04  -6.78583219e-04\n",
        "  -5.93971546e-05   5.01859098e-04  -4.44462057e-04  -2.70094266e-04\n",
        "   9.77092598e-04  -6.34143011e-04  -4.79055241e-04   9.41387840e-04\n",
        "  -8.80104927e-04   1.29513455e-04  -4.01937346e-04  -4.39721785e-04\n",
        "  -6.29641826e-04  -3.86615525e-04   5.53545713e-05   6.53066232e-04\n",
        "  -8.19597540e-04  -5.89396074e-04   7.59793364e-04  -7.26330280e-04\n",
        "  -6.68326992e-04   5.33306903e-04   3.47458551e-04   5.76770783e-04\n",
        "   3.05420039e-04  -9.56246871e-04   3.47392577e-04  -7.42845608e-04\n",
        "  -4.79005940e-04   9.03497139e-04   9.15927386e-04   7.58803248e-04\n",
        "   9.94796288e-04   4.23897763e-04   4.85261902e-04   6.56724904e-04\n",
        "   9.71734193e-04  -9.09954627e-04   4.67289194e-04  -2.61940203e-04\n",
        "   9.48646614e-04  -3.60180917e-04  -6.54965259e-04  -8.15206070e-04\n",
        "  -5.86928946e-04  -5.26022635e-04  -7.10712767e-04  -6.22415954e-05\n",
        "  -3.32491934e-04  -3.26668674e-04   1.82190319e-04  -8.11621862e-04\n",
        "  -8.90948622e-04  -1.22964241e-04  -2.57992708e-04  -5.98505775e-04\n",
        "   8.90259543e-04  -6.37396952e-04  -1.17420172e-04   7.47450089e-04\n",
        "   4.99016645e-04   1.62954605e-04   5.73567461e-04   8.95652518e-04\n",
        "  -2.59772187e-04  -7.48759299e-04   7.24106719e-04  -4.44633166e-04\n",
        "  -8.82429092e-04   9.42856529e-04  -3.88772572e-04  -3.06067721e-04\n",
        "   5.48147068e-04   1.72143846e-04  -1.26297134e-04   4.41050206e-04\n",
        "  -9.68617870e-04   5.83733450e-04   3.67589166e-04  -7.86609522e-04\n",
        "  -7.16583407e-04   3.62232493e-04   2.53479210e-04   2.06912272e-04\n",
        "  -6.83607449e-04   6.87743166e-04  -6.40125913e-04  -3.95208858e-04\n",
        "   6.55321575e-04   7.66192325e-04  -5.52311856e-04  -1.92095616e-04\n",
        "   3.46717343e-04   1.78612687e-04  -4.44696366e-04  -8.25011074e-04\n",
        "  -5.77378763e-06  -1.99339066e-04   5.02498209e-04  -7.65224123e-04\n",
        "   4.12008819e-04   9.63001071e-04  -2.00935359e-04  -9.45784982e-04\n",
        "  -9.61512550e-04   6.79220321e-04   2.57804698e-04   2.18738522e-04\n",
        "   6.12381037e-04   1.19469495e-04   9.40027126e-05  -2.83052705e-04\n",
        "  -1.96859992e-04  -8.68723361e-04  -1.33150501e-05   5.03943637e-04\n",
        "  -7.09093626e-04   5.11388987e-04  -7.12250242e-04  -6.92662075e-04\n",
        "   5.66114045e-04   5.82994762e-04  -4.40084832e-04  -4.90267090e-04\n",
        "   1.84326597e-04  -5.92829842e-04  -3.33327740e-04  -5.27551865e-04\n",
        "  -8.28140037e-07   6.74097860e-04  -5.73892707e-04   6.12706363e-04\n",
        "  -7.15544284e-04  -5.61278636e-04   2.16491423e-04  -2.43783881e-04\n",
        "   8.87649740e-04  -8.64491646e-04   9.77335471e-04   7.86962563e-04\n",
        "  -1.65134382e-04   5.42164024e-04  -7.71755704e-04  -7.96269575e-04\n",
        "  -6.29213860e-04   8.92494509e-04   7.90158646e-04   9.61392322e-04\n",
        "  -5.22019484e-04  -6.82504750e-04   5.93075627e-04   5.10587560e-04\n",
        "  -8.75988847e-04  -7.75198778e-05  -9.26113144e-04  -8.03871120e-04\n",
        "   5.78159415e-04  -9.36571452e-04   4.24833972e-04  -5.73911243e-04\n",
        "   2.68860813e-04  -8.25619397e-04  -8.28250809e-04  -5.20024589e-04\n",
        "   7.99098566e-04   7.24484883e-04  -7.01669988e-04  -9.35940139e-04]\n"
       ]
      }
     ],
     "prompt_number": 38
    },
    {
     "cell_type": "code",
     "collapsed": false,
     "input": [],
     "language": "python",
     "metadata": {},
     "outputs": []
    }
   ],
   "metadata": {}
  }
 ]
}