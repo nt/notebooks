{
 "metadata": {
  "name": "",
  "signature": "sha256:1d0d04cc56c19b7b177ee2a351e6f6d21afc53c3d532c26c3e3a3b9eb134526f"
 },
 "nbformat": 3,
 "nbformat_minor": 0,
 "worksheets": [
  {
   "cells": [
    {
     "cell_type": "markdown",
     "metadata": {},
     "source": [
      "# Generate data"
     ]
    },
    {
     "cell_type": "code",
     "collapsed": false,
     "input": [
      "import math\n",
      "import numpy as np\n",
      "import csv\n",
      "\n",
      "ROWS = 3000\n",
      "\n",
      "angles = [((i * math.pi) / 50.0) for i in range(ROWS)]\n",
      "data = np.array([(angle, math.sin(angle)) for angle in angles])\n",
      "print data\n",
      "\n",
      "fileHandle = open(\"/tmp/sine.csv\",\"w\")\n",
      "writer = csv.writer(fileHandle)\n",
      "writer.writerow([\"angle\",\"sine\"])\n",
      "writer.writerow([\"float\",\"float\"])\n",
      "writer.writerow([\"\",\"\"])\n",
      "\n",
      "for row in data:\n",
      "  writer.writerow(row)"
     ],
     "language": "python",
     "metadata": {},
     "outputs": [
      {
       "output_type": "stream",
       "stream": "stdout",
       "text": [
        "[[  0.00000000e+00   0.00000000e+00]\n",
        " [  6.28318531e-02   6.27905195e-02]\n",
        " [  1.25663706e-01   1.25333234e-01]\n",
        " ..., \n",
        " [  1.88307064e+02  -1.87381315e-01]\n",
        " [  1.88369896e+02  -1.25333234e-01]\n",
        " [  1.88432727e+02  -6.27905195e-02]]\n"
       ]
      }
     ],
     "prompt_number": 1
    },
    {
     "cell_type": "markdown",
     "metadata": {},
     "source": [
      "#Swarming"
     ]
    },
    {
     "cell_type": "code",
     "collapsed": false,
     "input": [
      "from nupic.frameworks.opf.modelfactory import ModelFactory\n",
      "from nupic.swarming import permutations_runner\n"
     ],
     "language": "python",
     "metadata": {},
     "outputs": [],
     "prompt_number": 2
    },
    {
     "cell_type": "code",
     "collapsed": false,
     "input": [
      "SWARM_CONFIG = {\n",
      "  \"includedFields\": [\n",
      "    {\n",
      "      \"fieldName\": \"sine\",\n",
      "      \"fieldType\": \"float\",\n",
      "      \"maxValue\": 1.0,\n",
      "      \"minValue\": -1.0\n",
      "    }\n",
      "  ],\n",
      "  \"streamDef\": {\n",
      "    \"info\": \"sine\",\n",
      "    \"version\": 1,\n",
      "    \"streams\": [\n",
      "      {\n",
      "        \"info\": \"sine.csv\",\n",
      "        \"source\": \"file://sine.csv\",\n",
      "        \"columns\": [\n",
      "          \"*\"\n",
      "        ]\n",
      "      }\n",
      "    ]\n",
      "  },\n",
      "  \"inferenceType\": \"TemporalAnomaly\",\n",
      "  \"inferenceArgs\": {\n",
      "    \"predictionSteps\": [\n",
      "      1\n",
      "    ],\n",
      "    \"predictedField\": \"sine\"\n",
      "  },\n",
      "  \"swarmSize\": \"medium\"\n",
      "}"
     ],
     "language": "python",
     "metadata": {},
     "outputs": [],
     "prompt_number": 3
    },
    {
     "cell_type": "code",
     "collapsed": false,
     "input": [
      "permutations_runner.runWithConfig(SWARM_CONFIG,\n",
      "    {'maxWorkers': 8, 'overwrite': True})"
     ],
     "language": "python",
     "metadata": {},
     "outputs": [
      {
       "output_type": "stream",
       "stream": "stdout",
       "text": [
        "Generating experiment files in directory: /data/notebooks...\n",
        "Writing  313 lines...\n",
        "Writing  113 lines...\n",
        "done.\n",
        "None\n",
        "Successfully submitted new HyperSearch job, jobID=1003"
       ]
      },
      {
       "output_type": "stream",
       "stream": "stdout",
       "text": [
        "\n",
        "##>> UPDATED WORKER STATE: \n",
        "{   u'activeSwarms': [u'modelParams|sensorParams|encoders|sine'],\n",
        "    u'blackListedEncoders': [],\n",
        "    u'lastGoodSprint': None,\n",
        "    u'lastUpdateTime': 1413679987.650731,\n",
        "    u'searchOver': False,\n",
        "    u'sprints': [   {   u'bestErrScore': None,\n",
        "                        u'bestModelId': None,\n",
        "                        u'status': u'active'}],\n",
        "    u'swarms': {   u'modelParams|sensorParams|encoders|sine': {   u'bestErrScore': None,\n",
        "                                                                  u'bestModelId': None,\n",
        "                                                                  u'sprintIdx': 0,\n",
        "                                                                  u'status': u'active'}}}"
       ]
      },
      {
       "output_type": "stream",
       "stream": "stdout",
       "text": [
        "\n",
        "####>> UPDATED JOB RESULTS: \n",
        "{   u'bestModel': 1661,\n",
        "    u'bestValue': 33.35675597764487,\n",
        "    u'metrics': {   u\"multiStepBestPredictions:multiStep:errorMetric='aae':steps=[1]:window=1000:field=sine\": 0.21443013853591786,\n",
        "                    u\"multiStepBestPredictions:multiStep:errorMetric='altMAPE':steps=[1]:window=1000:field=sine\": 33.35675597764487},\n",
        "    u'saved': False} (elapsed time: 2.03165 secs)"
       ]
      },
      {
       "output_type": "stream",
       "stream": "stdout",
       "text": [
        "\n",
        "####>> UPDATED JOB RESULTS: \n",
        "{   u'bestModel': 1661,\n",
        "    u'bestValue': 32.280116769281186,\n",
        "    u'metrics': {   u\"multiStepBestPredictions:multiStep:errorMetric='aae':steps=[1]:window=1000:field=sine\": 0.20646632575811025,\n",
        "                    u\"multiStepBestPredictions:multiStep:errorMetric='altMAPE':steps=[1]:window=1000:field=sine\": 32.280116769281186},\n",
        "    u'saved': False} (elapsed time: 3.04279 secs)"
       ]
      },
      {
       "output_type": "stream",
       "stream": "stdout",
       "text": [
        "\n",
        "####>> UPDATED JOB RESULTS: \n",
        "{   u'bestModel': 1661,\n",
        "    u'bestValue': 28.51018166999339,\n",
        "    u'metrics': {   u\"multiStepBestPredictions:multiStep:errorMetric='aae':steps=[1]:window=1000:field=sine\": 0.18189647933333733,\n",
        "                    u\"multiStepBestPredictions:multiStep:errorMetric='altMAPE':steps=[1]:window=1000:field=sine\": 28.51018166999339},\n",
        "    u'saved': False} (elapsed time: 4.0503 secs)"
       ]
      },
      {
       "output_type": "stream",
       "stream": "stdout",
       "text": [
        "\n",
        "####>> UPDATED JOB RESULTS: \n",
        "{   u'bestModel': 1661,\n",
        "    u'bestValue': 27.595067451823933,\n",
        "    u'metrics': {   u\"multiStepBestPredictions:multiStep:errorMetric='aae':steps=[1]:window=1000:field=sine\": 0.17596979641207047,\n",
        "                    u\"multiStepBestPredictions:multiStep:errorMetric='altMAPE':steps=[1]:window=1000:field=sine\": 27.595067451823933},\n",
        "    u'saved': False} (elapsed time: 5.06145 secs)"
       ]
      },
      {
       "output_type": "stream",
       "stream": "stdout",
       "text": [
        "\n",
        "####>> UPDATED JOB RESULTS: \n",
        "{   u'bestModel': 1661,\n",
        "    u'bestValue': 26.5134859286712,\n",
        "    u'metrics': {   u\"multiStepBestPredictions:multiStep:errorMetric='aae':steps=[1]:window=1000:field=sine\": 0.16897595461757037,\n",
        "                    u\"multiStepBestPredictions:multiStep:errorMetric='altMAPE':steps=[1]:window=1000:field=sine\": 26.5134859286712},\n",
        "    u'saved': False} (elapsed time: 6.07306 secs)"
       ]
      },
      {
       "output_type": "stream",
       "stream": "stdout",
       "text": [
        "\n",
        "####>> UPDATED JOB RESULTS: \n",
        "{   u'bestModel': 1661,\n",
        "    u'bestValue': 26.191126509693724,\n",
        "    u'metrics': {   u\"multiStepBestPredictions:multiStep:errorMetric='aae':steps=[1]:window=1000:field=sine\": 0.16689164634773826,\n",
        "                    u\"multiStepBestPredictions:multiStep:errorMetric='altMAPE':steps=[1]:window=1000:field=sine\": 26.191126509693724},\n",
        "    u'saved': False} (elapsed time: 7.08506 secs)"
       ]
      },
      {
       "output_type": "stream",
       "stream": "stdout",
       "text": [
        "\n",
        "####>> UPDATED JOB RESULTS: \n",
        "{   u'bestModel': 1661,\n",
        "    u'bestValue': 25.727566807597213,\n",
        "    u'metrics': {   u\"multiStepBestPredictions:multiStep:errorMetric='aae':steps=[1]:window=1000:field=sine\": 0.16389678679738334,\n",
        "                    u\"multiStepBestPredictions:multiStep:errorMetric='altMAPE':steps=[1]:window=1000:field=sine\": 25.727566807597213},\n",
        "    u'saved': False} (elapsed time: 8.09686 secs)"
       ]
      },
      {
       "output_type": "stream",
       "stream": "stdout",
       "text": [
        "\n",
        "####>> UPDATED JOB RESULTS: \n",
        "{   u'bestModel': 1661,\n",
        "    u'bestValue': 22.509396887118225,\n",
        "    u'metrics': {   u\"multiStepBestPredictions:multiStep:errorMetric='aae':steps=[1]:window=1000:field=sine\": 0.15757733700640206,\n",
        "                    u\"multiStepBestPredictions:multiStep:errorMetric='altMAPE':steps=[1]:window=1000:field=sine\": 22.509396887118225},\n",
        "    u'saved': False} (elapsed time: 9.10879 secs)"
       ]
      },
      {
       "output_type": "stream",
       "stream": "stdout",
       "text": [
        "\n",
        "####>> UPDATED JOB RESULTS: \n",
        "{   u'bestModel': 1661,\n",
        "    u'bestValue': 18.54636962014688,\n",
        "    u'metrics': {   u\"multiStepBestPredictions:multiStep:errorMetric='aae':steps=[1]:window=1000:field=sine\": 0.15344031309944237,\n",
        "                    u\"multiStepBestPredictions:multiStep:errorMetric='altMAPE':steps=[1]:window=1000:field=sine\": 18.54636962014688},\n",
        "    u'saved': False} (elapsed time: 10.1198 secs)"
       ]
      },
      {
       "output_type": "stream",
       "stream": "stdout",
       "text": [
        "\n",
        "####>> UPDATED JOB RESULTS: \n",
        "{   u'bestModel': 1661,\n",
        "    u'bestValue': 17.313643291812756,\n",
        "    u'metrics': {   u\"multiStepBestPredictions:multiStep:errorMetric='aae':steps=[1]:window=1000:field=sine\": 0.15426013752382178,\n",
        "                    u\"multiStepBestPredictions:multiStep:errorMetric='altMAPE':steps=[1]:window=1000:field=sine\": 17.313643291812756},\n",
        "    u'saved': False} (elapsed time: 11.1315 secs)"
       ]
      },
      {
       "output_type": "stream",
       "stream": "stdout",
       "text": [
        "\n",
        "####>> UPDATED JOB RESULTS: \n",
        "{   u'bestModel': 1661,\n",
        "    u'bestValue': 15.317689756358364,\n",
        "    u'metrics': {   u\"multiStepBestPredictions:multiStep:errorMetric='aae':steps=[1]:window=1000:field=sine\": 0.15597337320549126,\n",
        "                    u\"multiStepBestPredictions:multiStep:errorMetric='altMAPE':steps=[1]:window=1000:field=sine\": 15.317689756358364},\n",
        "    u'saved': False} (elapsed time: 12.1433 secs)"
       ]
      },
      {
       "output_type": "stream",
       "stream": "stdout",
       "text": [
        "\n",
        "####>> UPDATED JOB RESULTS: \n",
        "{   u'bestModel': 1661,\n",
        "    u'bestValue': 14.42415457991636,\n",
        "    u'metrics': {   u\"multiStepBestPredictions:multiStep:errorMetric='aae':steps=[1]:window=1000:field=sine\": 0.15605457391617594,\n",
        "                    u\"multiStepBestPredictions:multiStep:errorMetric='altMAPE':steps=[1]:window=1000:field=sine\": 14.42415457991636},\n",
        "    u'saved': False} (elapsed time: 13.158 secs)"
       ]
      },
      {
       "output_type": "stream",
       "stream": "stdout",
       "text": [
        "\n",
        "####>> UPDATED JOB RESULTS: \n",
        "{   u'bestModel': 1661,\n",
        "    u'bestValue': 13.114888355523608,\n",
        "    u'metrics': {   u\"multiStepBestPredictions:multiStep:errorMetric='aae':steps=[1]:window=1000:field=sine\": 0.15858255537658295,\n",
        "                    u\"multiStepBestPredictions:multiStep:errorMetric='altMAPE':steps=[1]:window=1000:field=sine\": 13.114888355523608},\n",
        "    u'saved': False} (elapsed time: 14.1691 secs)"
       ]
      },
      {
       "output_type": "stream",
       "stream": "stdout",
       "text": [
        "\n",
        "####>> UPDATED JOB RESULTS: \n",
        "{   u'bestModel': 1661,\n",
        "    u'bestValue': 12.481464885135106,\n",
        "    u'metrics': {   u\"multiStepBestPredictions:multiStep:errorMetric='aae':steps=[1]:window=1000:field=sine\": 0.15886666100156413,\n",
        "                    u\"multiStepBestPredictions:multiStep:errorMetric='altMAPE':steps=[1]:window=1000:field=sine\": 12.481464885135106},\n",
        "    u'saved': False} (elapsed time: 15.1799 secs)"
       ]
      },
      {
       "output_type": "stream",
       "stream": "stdout",
       "text": [
        "\n",
        "####>> UPDATED JOB RESULTS: \n",
        "{   u'bestModel': 1661,\n",
        "    u'bestValue': 11.351860312280051,\n",
        "    u'metrics': {   u\"multiStepBestPredictions:multiStep:errorMetric='aae':steps=[1]:window=1000:field=sine\": 0.15893770295564488,\n",
        "                    u\"multiStepBestPredictions:multiStep:errorMetric='altMAPE':steps=[1]:window=1000:field=sine\": 11.351860312280051},\n",
        "    u'saved': False} (elapsed time: 16.1909 secs)"
       ]
      },
      {
       "output_type": "stream",
       "stream": "stdout",
       "text": [
        "\n",
        "####>> UPDATED JOB RESULTS: \n",
        "{   u'bestModel': 1661,\n",
        "    u'bestValue': 10.799893249778897,\n",
        "    u'metrics': {   u\"multiStepBestPredictions:multiStep:errorMetric='aae':steps=[1]:window=1000:field=sine\": 0.15808276070867647,\n",
        "                    u\"multiStepBestPredictions:multiStep:errorMetric='altMAPE':steps=[1]:window=1000:field=sine\": 10.799893249778897},\n",
        "    u'saved': False} (elapsed time: 17.2028 secs)"
       ]
      },
      {
       "output_type": "stream",
       "stream": "stdout",
       "text": [
        "\n",
        "####>> UPDATED JOB RESULTS: \n",
        "{   u'bestModel': 1661,\n",
        "    u'bestValue': 9.918103599104114,\n",
        "    u'metrics': {   u\"multiStepBestPredictions:multiStep:errorMetric='aae':steps=[1]:window=1000:field=sine\": 0.1577995869032375,\n",
        "                    u\"multiStepBestPredictions:multiStep:errorMetric='altMAPE':steps=[1]:window=1000:field=sine\": 9.918103599104114},\n",
        "    u'saved': False} (elapsed time: 18.2138 secs)"
       ]
      },
      {
       "output_type": "stream",
       "stream": "stdout",
       "text": [
        "\n",
        "####>> UPDATED JOB RESULTS: \n",
        "{   u'bestModel': 1661,\n",
        "    u'bestValue': 9.170915654464064,\n",
        "    u'metrics': {   u\"multiStepBestPredictions:multiStep:errorMetric='aae':steps=[1]:window=1000:field=sine\": 0.15758456466253795,\n",
        "                    u\"multiStepBestPredictions:multiStep:errorMetric='altMAPE':steps=[1]:window=1000:field=sine\": 9.170915654464064},\n",
        "    u'saved': False} (elapsed time: 19.2248 secs)"
       ]
      },
      {
       "output_type": "stream",
       "stream": "stdout",
       "text": [
        "\n",
        "####>> UPDATED JOB RESULTS: \n",
        "{   u'bestModel': 1661,\n",
        "    u'bestValue': 8.752078790886426,\n",
        "    u'metrics': {   u\"multiStepBestPredictions:multiStep:errorMetric='aae':steps=[1]:window=1000:field=sine\": 0.15595757116468922,\n",
        "                    u\"multiStepBestPredictions:multiStep:errorMetric='altMAPE':steps=[1]:window=1000:field=sine\": 8.752078790886426},\n",
        "    u'saved': False} (elapsed time: 20.2368 secs)"
       ]
      },
      {
       "output_type": "stream",
       "stream": "stdout",
       "text": [
        "\n",
        "<jobID: 1003> 1  models finished [success: 1; EOF: 1; stopped: 0; killed: 0; error: 0; orphaned: 0; unknown: 0]"
       ]
      },
      {
       "output_type": "stream",
       "stream": "stdout",
       "text": [
        "\n",
        "####>> UPDATED JOB RESULTS: \n",
        "{   u'bestModel': 1661,\n",
        "    u'bestValue': 8.433964557523343,\n",
        "    u'metrics': {   u\"multiStepBestPredictions:multiStep:errorMetric='aae':steps=[1]:window=1000:field=sine\": 0.15669444148461018,\n",
        "                    u\"multiStepBestPredictions:multiStep:errorMetric='altMAPE':steps=[1]:window=1000:field=sine\": 8.433964557523343},\n",
        "    u'saved': True} (elapsed time: 21.249 secs)\n",
        "<jobID: 1003> 2  models finished [success: 2; EOF: 2; stopped: 0; killed: 0; error: 0; orphaned: 0; unknown: 0]"
       ]
      },
      {
       "output_type": "stream",
       "stream": "stdout",
       "text": [
        "\n",
        "####>> UPDATED JOB RESULTS: \n",
        "{   u'bestModel': 1590,\n",
        "    u'bestValue': 0.31425926093408807,\n",
        "    u'metrics': {   u\"multiStepBestPredictions:multiStep:errorMetric='aae':steps=[1]:window=1000:field=sine\": 0.005838615877216099,\n",
        "                    u\"multiStepBestPredictions:multiStep:errorMetric='altMAPE':steps=[1]:window=1000:field=sine\": 0.31425926093408807},\n",
        "    u'saved': True} (elapsed time: 24.2815 secs)\n",
        "<jobID: 1003> 3  models finished [success: 3; EOF: 3; stopped: 0; killed: 0; error: 0; orphaned: 0; unknown: 0]"
       ]
      },
      {
       "output_type": "stream",
       "stream": "stdout",
       "text": [
        "\n",
        "####>> UPDATED JOB RESULTS: \n",
        "{   u'bestModel': 1814,\n",
        "    u'bestValue': 0.29025068815079197,\n",
        "    u'metrics': {   u\"multiStepBestPredictions:multiStep:errorMetric='aae':steps=[1]:window=1000:field=sine\": 0.005392561133037027,\n",
        "                    u\"multiStepBestPredictions:multiStep:errorMetric='altMAPE':steps=[1]:window=1000:field=sine\": 0.29025068815079197},\n",
        "    u'saved': True} (elapsed time: 25.2929 secs)\n",
        "<jobID: 1003> 4  models finished [success: 4; EOF: 4; stopped: 0; killed: 0; error: 0; orphaned: 0; unknown: 0]"
       ]
      },
      {
       "output_type": "stream",
       "stream": "stdout",
       "text": [
        "\n",
        "<jobID: 1003> 5  models finished [success: 5; EOF: 5; stopped: 0; killed: 0; error: 0; orphaned: 0; unknown: 0]"
       ]
      },
      {
       "output_type": "stream",
       "stream": "stdout",
       "text": [
        "\n",
        "##>> UPDATED STATUS: \n",
        "Completed generation #0 of swarm 'modelParams|sensorParams|encoders|sine' with a best errScore of 0.290251\n",
        "<jobID: 1003> 6  models finished [success: 6; EOF: 6; stopped: 0; killed: 0; error: 0; orphaned: 0; unknown: 0]"
       ]
      },
      {
       "output_type": "stream",
       "stream": "stdout",
       "text": [
        "\n",
        "<jobID: 1003> 7  models finished [success: 7; EOF: 7; stopped: 0; killed: 0; error: 0; orphaned: 0; unknown: 0]"
       ]
      },
      {
       "output_type": "stream",
       "stream": "stdout",
       "text": [
        "\n",
        "<jobID: 1003> 8  models finished [success: 8; EOF: 8; stopped: 0; killed: 0; error: 0; orphaned: 0; unknown: 0]"
       ]
      },
      {
       "output_type": "stream",
       "stream": "stdout",
       "text": [
        "\n",
        "####>> UPDATED JOB RESULTS: \n",
        "{   u'bestModel': 1848,\n",
        "    u'bestValue': 0.16235613505704474,\n",
        "    u'metrics': {   u\"multiStepBestPredictions:multiStep:errorMetric='aae':steps=[1]:window=1000:field=sine\": 0.0030164110521036258,\n",
        "                    u\"multiStepBestPredictions:multiStep:errorMetric='altMAPE':steps=[1]:window=1000:field=sine\": 0.16235613505704474},\n",
        "    u'saved': True} (elapsed time: 48.5355 secs)\n",
        "<jobID: 1003> 9  models finished [success: 9; EOF: 9; stopped: 0; killed: 0; error: 0; orphaned: 0; unknown: 0]"
       ]
      },
      {
       "output_type": "stream",
       "stream": "stdout",
       "text": [
        "\n",
        "####>> UPDATED JOB RESULTS: \n",
        "{   u'bestModel': 1847,\n",
        "    u'bestValue': 0.14787332499003705,\n",
        "    u'metrics': {   u\"multiStepBestPredictions:multiStep:errorMetric='aae':steps=[1]:window=1000:field=sine\": 0.0027473352433188512,\n",
        "                    u\"multiStepBestPredictions:multiStep:errorMetric='altMAPE':steps=[1]:window=1000:field=sine\": 0.14787332499003705},\n",
        "    u'saved': True} (elapsed time: 49.5459 secs)\n",
        "<jobID: 1003> 10  models finished [success: 10; EOF: 10; stopped: 0; killed: 0; error: 0; orphaned: 0; unknown: 0]"
       ]
      },
      {
       "output_type": "stream",
       "stream": "stdout",
       "text": [
        "\n",
        "####>> UPDATED JOB RESULTS: \n",
        "{   u'bestModel': 1849,\n",
        "    u'bestValue': 0.13513462385154648,\n",
        "    u'metrics': {   u\"multiStepBestPredictions:multiStep:errorMetric='aae':steps=[1]:window=1000:field=sine\": 0.002510663195846862,\n",
        "                    u\"multiStepBestPredictions:multiStep:errorMetric='altMAPE':steps=[1]:window=1000:field=sine\": 0.13513462385154648},\n",
        "    u'saved': True} (elapsed time: 52.5773 secs)\n",
        "##>> UPDATED STATUS: \n",
        "Completed generation #1 of swarm 'modelParams|sensorParams|encoders|sine' with a best errScore of 0.135135\n",
        "<jobID: 1003> 12  models finished [success: 12; EOF: 12; stopped: 0; killed: 0; error: 0; orphaned: 0; unknown: 0]"
       ]
      },
      {
       "output_type": "stream",
       "stream": "stdout",
       "text": [
        "\n",
        "<jobID: 1003> 13  models finished [success: 13; EOF: 13; stopped: 0; killed: 0; error: 0; orphaned: 0; unknown: 0]"
       ]
      },
      {
       "output_type": "stream",
       "stream": "stdout",
       "text": [
        "\n",
        "<jobID: 1003> 14  models finished [success: 14; EOF: 14; stopped: 0; killed: 0; error: 0; orphaned: 0; unknown: 0]"
       ]
      },
      {
       "output_type": "stream",
       "stream": "stdout",
       "text": [
        "\n",
        "<jobID: 1003> 19  models finished [success: 15; EOF: 15; stopped: 0; KILLED: 4; error: 0; orphaned: 0; unknown: 0]"
       ]
      },
      {
       "output_type": "stream",
       "stream": "stdout",
       "text": [
        "\n",
        "##>> UPDATED WORKER STATE: \n",
        "{   u'activeSwarms': [],\n",
        "    u'blackListedEncoders': [],\n",
        "    u'lastGoodSprint': None,\n",
        "    u'lastUpdateTime': 1413680064.444364,\n",
        "    u'searchOver': False,\n",
        "    u'sprints': [   {   u'bestErrScore': 0.13513462385154648,\n",
        "                        u'bestModelId': 1849,\n",
        "                        u'status': u'completed'}],\n",
        "    u'swarms': {   u'modelParams|sensorParams|encoders|sine': {   u'bestErrScore': 0.13513462385154648,\n",
        "                                                                  u'bestModelId': 1849,\n",
        "                                                                  u'sprintIdx': 0,\n",
        "                                                                  u'status': u'completed'}}}\n",
        "####>> UPDATED JOB RESULTS: \n",
        "{   u'absoluteFieldContributions': {   u'sine': 0.0},\n",
        "    u'bestModel': 1849,\n",
        "    u'bestValue': 0.13513462385154648,\n",
        "    u'fieldContributions': {   u'sine': 0.0},\n",
        "    u'metrics': {   u\"multiStepBestPredictions:multiStep:errorMetric='aae':steps=[1]:window=1000:field=sine\": 0.002510663195846862,\n",
        "                    u\"multiStepBestPredictions:multiStep:errorMetric='altMAPE':steps=[1]:window=1000:field=sine\": 0.13513462385154648},\n",
        "    u'saved': True} (elapsed time: 77.8429 secs)\n",
        "##>> UPDATED STATUS: \n",
        "Completed generation #2 of swarm 'modelParams|sensorParams|encoders|sine' with a best errScore of 0.155362. Matured swarm(s): [u'modelParams|sensorParams|encoders|sine']\n",
        "Evaluated 19 models"
       ]
      },
      {
       "output_type": "stream",
       "stream": "stdout",
       "text": [
        "\n",
        "HyperSearch finished!\n",
        "Worker completion message: Exiting because we've evaluated all possible field combinations\n",
        "\n",
        "Results from all experiments:\n",
        "----------------------------------------------------------------\n",
        "Generating experiment files in directory: /tmp/tmpizJSOK..."
       ]
      },
      {
       "output_type": "stream",
       "stream": "stdout",
       "text": [
        "\n",
        "Writing  313 lines...\n",
        "Writing  113 lines...\n",
        "done.\n",
        "None\n",
        "[0] Experiment _NupicModelInfo(jobID=1003, modelID=1590, status=completed, completionReason=eof, updateCounter=36, numRecords=2965)\n",
        "(modelParams|clParams|alpha_0.05005.modelParams|tpParams|minThreshold_11.modelParams|tpParams|activationThreshold_14.modelParams|tpParams|pamLength_3.modelParams|sensorParams|encoders|sine:n_272.modelParams|spParams|synPermInactiveDec_0.05015):\n",
        "  multiStepBestPredictions:multiStep:errorMetric='aae':steps=[1]:window=1000:field=sine:      0.005838615877216099\n",
        "  multiStepBestPredictions:multiStep:errorMetric='altMAPE':steps=[1]:window=1000:field=sine:  0.31425926093408807\n",
        "\n",
        "[1] Experiment _NupicModelInfo(jobID=1003, modelID=1661, status=completed, completionReason=eof, updateCounter=64, numRecords=2965)\n",
        "(modelParams|clParams|alpha_0.0001.modelParams|tpParams|minThreshold_9.modelParams|tpParams|activationThreshold_12.modelParams|tpParams|pamLength_1.modelParams|sensorParams|encoders|sine:n_22.modelParams|spParams|synPermInactiveDec_0.1):\n",
        "  multiStepBestPredictions:multiStep:errorMetric='aae':steps=[1]:window=1000:field=sine:      0.15669444148461018\n",
        "  multiStepBestPredictions:multiStep:errorMetric='altMAPE':steps=[1]:window=1000:field=sine:  8.433964557523343\n",
        "\n",
        "[2] Experiment _NupicModelInfo(jobID=1003, modelID=1722, status=completed, completionReason=eof, updateCounter=34, numRecords=2965)\n",
        "(modelParams|clParams|alpha_0.1.modelParams|tpParams|minThreshold_12.modelParams|tpParams|activationThreshold_16.modelParams|tpParams|pamLength_5.modelParams|sensorParams|encoders|sine:n_521.modelParams|spParams|synPermInactiveDec_0.0003):\n",
        "  multiStepBestPredictions:multiStep:errorMetric='aae':steps=[1]:window=1000:field=sine:      0.03130460551136914\n",
        "  multiStepBestPredictions:multiStep:errorMetric='altMAPE':steps=[1]:window=1000:field=sine:  1.684947665460539\n",
        "\n",
        "[3] Experiment _NupicModelInfo(jobID=1003, modelID=1773, status=completed, completionReason=eof, updateCounter=34, numRecords=2965)\n",
        "(modelParams|clParams|alpha_0.025075.modelParams|tpParams|minThreshold_10.modelParams|tpParams|activationThreshold_13.modelParams|tpParams|pamLength_2.modelParams|sensorParams|encoders|sine:n_147.modelParams|spParams|synPermInactiveDec_0.075075):\n",
        "  multiStepBestPredictions:multiStep:errorMetric='aae':steps=[1]:window=1000:field=sine:      0.041467562979369384\n",
        "  multiStepBestPredictions:multiStep:errorMetric='altMAPE':steps=[1]:window=1000:field=sine:  2.231961473178471\n",
        "\n",
        "[4] Experiment _NupicModelInfo(jobID=1003, modelID=1814, status=completed, completionReason=eof, updateCounter=36, numRecords=2965)\n",
        "(modelParams|clParams|alpha_0.075025.modelParams|tpParams|minThreshold_11.modelParams|tpParams|activationThreshold_15.modelParams|tpParams|pamLength_4.modelParams|sensorParams|encoders|sine:n_396.modelParams|spParams|synPermInactiveDec_0.025225):\n",
        "  multiStepBestPredictions:multiStep:errorMetric='aae':steps=[1]:window=1000:field=sine:      0.005392561133037027\n",
        "  multiStepBestPredictions:multiStep:errorMetric='altMAPE':steps=[1]:window=1000:field=sine:  0.29025068815079197\n",
        "\n",
        "[5] Experiment _NupicModelInfo(jobID=1003, modelID=1845, status=completed, completionReason=eof, updateCounter=34, numRecords=2965)\n",
        "(modelParams|clParams|alpha_0.0001.modelParams|tpParams|minThreshold_9.modelParams|tpParams|activationThreshold_12.modelParams|tpParams|pamLength_1.modelParams|sensorParams|encoders|sine:n_22.modelParams|spParams|synPermInactiveDec_0.1):\n",
        "  multiStepBestPredictions:multiStep:errorMetric='aae':steps=[1]:window=1000:field=sine:      0.15669444148461018\n",
        "  multiStepBestPredictions:multiStep:errorMetric='altMAPE':steps=[1]:window=1000:field=sine:  8.433964557523343\n",
        "\n",
        "[6] Experiment _NupicModelInfo(jobID=1003, modelID=1846, status=completed, completionReason=eof, updateCounter=34, numRecords=2965)\n",
        "(modelParams|clParams|alpha_0.055045.modelParams|tpParams|minThreshold_11.modelParams|tpParams|activationThreshold_14.modelParams|tpParams|pamLength_3.modelParams|sensorParams|encoders|sine:n_296.modelParams|spParams|synPermInactiveDec_0.055135):\n",
        "  multiStepBestPredictions:multiStep:errorMetric='aae':steps=[1]:window=1000:field=sine:      0.008141877982056888\n",
        "  multiStepBestPredictions:multiStep:errorMetric='altMAPE':steps=[1]:window=1000:field=sine:  0.4382306716291008\n",
        "\n",
        "[7] Experiment _NupicModelInfo(jobID=1003, modelID=1847, status=completed, completionReason=eof, updateCounter=36, numRecords=2965)\n",
        "(modelParams|clParams|alpha_0.07003.modelParams|tpParams|minThreshold_10.modelParams|tpParams|activationThreshold_15.modelParams|tpParams|pamLength_4.modelParams|sensorParams|encoders|sine:n_421.modelParams|spParams|synPermInactiveDec_0.03021):\n",
        "  multiStepBestPredictions:multiStep:errorMetric='aae':steps=[1]:window=1000:field=sine:      0.0027473352433188512\n",
        "  multiStepBestPredictions:multiStep:errorMetric='altMAPE':steps=[1]:window=1000:field=sine:  0.14787332499003705\n",
        "\n",
        "[8] Experiment _NupicModelInfo(jobID=1003, modelID=1848, status=completed, completionReason=eof, updateCounter=36, numRecords=2965)\n",
        "(modelParams|clParams|alpha_0.0605397148893.modelParams|tpParams|minThreshold_11.modelParams|tpParams|activationThreshold_15.modelParams|tpParams|pamLength_4.modelParams|sensorParams|encoders|sine:n_324.modelParams|spParams|synPermInactiveDec_0.0201332155552):\n",
        "  multiStepBestPredictions:multiStep:errorMetric='aae':steps=[1]:window=1000:field=sine:      0.0030164110521036258\n",
        "  multiStepBestPredictions:multiStep:errorMetric='altMAPE':steps=[1]:window=1000:field=sine:  0.16235613505704474\n",
        "\n",
        "[9] Experiment _NupicModelInfo(jobID=1003, modelID=1849, status=completed, completionReason=eof, updateCounter=36, numRecords=2965)\n",
        "(modelParams|clParams|alpha_0.0747751425553.modelParams|tpParams|minThreshold_11.modelParams|tpParams|activationThreshold_15.modelParams|tpParams|pamLength_4.modelParams|sensorParams|encoders|sine:n_444.modelParams|spParams|synPermInactiveDec_0.0302633922224):\n",
        "  multiStepBestPredictions:multiStep:errorMetric='aae':steps=[1]:window=1000:field=sine:      0.002510663195846862\n",
        "  multiStepBestPredictions:multiStep:errorMetric='altMAPE':steps=[1]:window=1000:field=sine:  0.13513462385154648\n",
        "\n",
        "[10] Experiment _NupicModelInfo(jobID=1003, modelID=1850, status=completed, completionReason=eof, updateCounter=34, numRecords=2965)\n",
        "(modelParams|clParams|alpha_0.059540822334.modelParams|tpParams|minThreshold_11.modelParams|tpParams|activationThreshold_15.modelParams|tpParams|pamLength_3.modelParams|sensorParams|encoders|sine:n_319.modelParams|spParams|synPermInactiveDec_0.0263110733328):\n",
        "  multiStepBestPredictions:multiStep:errorMetric='aae':steps=[1]:window=1000:field=sine:      0.002886462666808751\n",
        "  multiStepBestPredictions:multiStep:errorMetric='altMAPE':steps=[1]:window=1000:field=sine:  0.15536175755711473\n",
        "\n",
        "[11] Experiment _NupicModelInfo(jobID=1003, modelID=1851, status=completed, completionReason=eof, updateCounter=34, numRecords=2965)\n",
        "(modelParams|clParams|alpha_0.0711592422699.modelParams|tpParams|minThreshold_11.modelParams|tpParams|activationThreshold_15.modelParams|tpParams|pamLength_4.modelParams|sensorParams|encoders|sine:n_378.modelParams|spParams|synPermInactiveDec_0.0253011883027):\n",
        "  multiStepBestPredictions:multiStep:errorMetric='aae':steps=[1]:window=1000:field=sine:      0.0060040829197216235\n",
        "  multiStepBestPredictions:multiStep:errorMetric='altMAPE':steps=[1]:window=1000:field=sine:  0.3231654043729258\n",
        "\n",
        "[12] Experiment _NupicModelInfo(jobID=1003, modelID=1852, status=completed, completionReason=eof, updateCounter=34, numRecords=2965)\n",
        "(modelParams|clParams|alpha_0.0694058936117.modelParams|tpParams|minThreshold_11.modelParams|tpParams|activationThreshold_16.modelParams|tpParams|pamLength_4.modelParams|sensorParams|encoders|sine:n_368.modelParams|spParams|synPermInactiveDec_0.00639776944402):\n",
        "  multiStepBestPredictions:multiStep:errorMetric='aae':steps=[1]:window=1000:field=sine:      0.005327322848611976\n",
        "  multiStepBestPredictions:multiStep:errorMetric='altMAPE':steps=[1]:window=1000:field=sine:  0.2867392848526201\n",
        "\n",
        "[13] Experiment _NupicModelInfo(jobID=1003, modelID=1853, status=completed, completionReason=eof, updateCounter=34, numRecords=2965)\n",
        "(modelParams|clParams|alpha_0.06878125.modelParams|tpParams|minThreshold_10.modelParams|tpParams|activationThreshold_15.modelParams|tpParams|pamLength_4.modelParams|sensorParams|encoders|sine:n_427.modelParams|spParams|synPermInactiveDec_0.03145625):\n",
        "  multiStepBestPredictions:multiStep:errorMetric='aae':steps=[1]:window=1000:field=sine:      0.0056744095588066425\n",
        "  multiStepBestPredictions:multiStep:errorMetric='altMAPE':steps=[1]:window=1000:field=sine:  0.30542097505448196\n",
        "\n",
        "[14] Experiment _NupicModelInfo(jobID=1003, modelID=1854, status=completed, completionReason=eof, updateCounter=34, numRecords=2965)\n",
        "(modelParams|clParams|alpha_0.0684689281942.modelParams|tpParams|minThreshold_11.modelParams|tpParams|activationThreshold_14.modelParams|tpParams|pamLength_4.modelParams|sensorParams|encoders|sine:n_425.modelParams|spParams|synPermInactiveDec_0.037754240278):\n",
        "  multiStepBestPredictions:multiStep:errorMetric='aae':steps=[1]:window=1000:field=sine:      0.005912193829786888\n",
        "  multiStepBestPredictions:multiStep:errorMetric='altMAPE':steps=[1]:window=1000:field=sine:  0.318219540815865\n",
        "\n",
        "[15] Experiment _NupicModelInfo(jobID=1003, modelID=1855, status=completed, completionReason=killed, updateCounter=19, numRecords=1550)\n",
        "(modelParams|clParams|alpha_0.0725450676503.modelParams|tpParams|minThreshold_11.modelParams|tpParams|activationThreshold_15.modelParams|tpParams|pamLength_4.modelParams|sensorParams|encoders|sine:n_426.modelParams|spParams|synPermInactiveDec_0.0283286206367):\n",
        "  multiStepBestPredictions:multiStep:errorMetric='aae':steps=[1]:window=1000:field=sine:      0.016085614989302832\n",
        "  multiStepBestPredictions:multiStep:errorMetric='altMAPE':steps=[1]:window=1000:field=sine:  1.6850360537491633\n",
        "\n",
        "[16] Experiment _NupicModelInfo(jobID=1003, modelID=1856, status=completed, completionReason=killed, updateCounter=17, numRecords=1300)\n",
        "(modelParams|clParams|alpha_0.0867408928362.modelParams|tpParams|minThreshold_11.modelParams|tpParams|activationThreshold_16.modelParams|tpParams|pamLength_5.modelParams|sensorParams|encoders|sine:n_495.modelParams|spParams|synPermInactiveDec_0.0118496268781):\n",
        "  multiStepBestPredictions:multiStep:errorMetric='aae':steps=[1]:window=1000:field=sine:      0.03514038795243809\n",
        "  multiStepBestPredictions:multiStep:errorMetric='altMAPE':steps=[1]:window=1000:field=sine:  4.247427617922666\n",
        "\n",
        "[17] Experiment _NupicModelInfo(jobID=1003, modelID=1857, status=completed, completionReason=killed, updateCounter=12, numRecords=800)\n",
        "(modelParams|clParams|alpha_0.0736313900636.modelParams|tpParams|minThreshold_11.modelParams|tpParams|activationThreshold_15.modelParams|tpParams|pamLength_4.modelParams|sensorParams|encoders|sine:n_430.modelParams|spParams|synPermInactiveDec_0.0299280518432):\n",
        "  multiStepBestPredictions:multiStep:errorMetric='aae':steps=[1]:window=1000:field=sine:      0.06409490047817183\n",
        "  multiStepBestPredictions:multiStep:errorMetric='altMAPE':steps=[1]:window=1000:field=sine:  10.058727826030445\n",
        "\n",
        "[18] Experiment _NupicModelInfo(jobID=1003, modelID=1858, status=completed, completionReason=killed, updateCounter=6, numRecords=250)\n",
        "(modelParams|clParams|alpha_0.0736537396775.modelParams|tpParams|minThreshold_11.modelParams|tpParams|activationThreshold_15.modelParams|tpParams|pamLength_4.modelParams|sensorParams|encoders|sine:n_441.modelParams|spParams|synPermInactiveDec_0.030295901726):\n",
        "  multiStepBestPredictions:multiStep:errorMetric='aae':steps=[1]:window=1000:field=sine:      0.0721166021834133\n",
        "  multiStepBestPredictions:multiStep:errorMetric='altMAPE':steps=[1]:window=1000:field=sine: "
       ]
      },
      {
       "output_type": "stream",
       "stream": "stdout",
       "text": [
        " 11.286450521265145\n",
        "\n",
        "--------------------------------------------------------------\n",
        "19 experiments total (all completed successfully).\n",
        "\n",
        "WaitingToStart: 0\n",
        "Running: 0\n",
        "Completed: 19\n",
        "    ran to EOF: 15\n",
        "    ran to stop signal: 0\n",
        "    were orphaned: 0\n",
        "    killed off: 4\n",
        "    failed: 0\n",
        "\n",
        "Field Contributions:\n",
        "{   u'sine': 0.0}\n",
        "\n",
        "Best results on the optimization metric multiStepBestPredictions:multiStep:errorMetric='altMAPE':steps=[1]:window=1000:field=sine (maximize=False):\n",
        "[9] Experiment _NupicModelInfo(jobID=1003, modelID=1849, status=completed, completionReason=eof, updateCounter=36, numRecords=2965) (modelParams|clParams|alpha_0.0747751425553.modelParams|tpParams|minThreshold_11.modelParams|tpParams|activationThreshold_15.modelParams|tpParams|pamLength_4.modelParams|sensorParams|encoders|sine:n_444.modelParams|spParams|synPermInactiveDec_0.0302633922224):\n",
        "  multiStepBestPredictions:multiStep:errorMetric='altMAPE':steps=[1]:window=1000:field=sine:    0.135134623852\n",
        "\n",
        "Total number of Records processed: 48375\n",
        "\n",
        "Total wall time for all models: 380\n",
        "\n",
        "Generating description files for top 1 models...\n",
        "Generating description file for model 1849 at /data/notebooks/model_0\n",
        "Generating model params file...\n",
        "\n"
       ]
      },
      {
       "output_type": "stream",
       "stream": "stdout",
       "text": [
        "Report csv saved in /data/notebooks/default_Report.csv\n",
        "Elapsed time (h:mm:ss): 0:01:21\n",
        "Hypersearch ClientJobs job ID:  1003\n"
       ]
      },
      {
       "metadata": {},
       "output_type": "pyout",
       "prompt_number": 4,
       "text": [
        "{'aggregationInfo': {'days': 0,\n",
        "  'fields': [],\n",
        "  'hours': 0,\n",
        "  'microseconds': 0,\n",
        "  'milliseconds': 0,\n",
        "  'minutes': 0,\n",
        "  'months': 0,\n",
        "  'seconds': 0,\n",
        "  'weeks': 0,\n",
        "  'years': 0},\n",
        " 'model': 'CLA',\n",
        " 'modelParams': {'anomalyParams': {u'anomalyCacheRecords': None,\n",
        "   u'autoDetectThreshold': None,\n",
        "   u'autoDetectWaitRecords': None},\n",
        "  'clParams': {'alpha': 0.07477514255532557,\n",
        "   'clVerbosity': 0,\n",
        "   'regionName': 'CLAClassifierRegion',\n",
        "   'steps': '1'},\n",
        "  'inferenceType': 'TemporalAnomaly',\n",
        "  'sensorParams': {'encoders': {u'sine': {'clipInput': True,\n",
        "     'fieldname': 'sine',\n",
        "     'maxval': 1.0,\n",
        "     'minval': -1.0,\n",
        "     'n': 444,\n",
        "     'name': 'sine',\n",
        "     'type': 'ScalarEncoder',\n",
        "     'w': 21}},\n",
        "   'sensorAutoReset': None,\n",
        "   'verbosity': 0},\n",
        "  'spEnable': True,\n",
        "  'spParams': {'columnCount': 2048,\n",
        "   'globalInhibition': 1,\n",
        "   'inputWidth': 0,\n",
        "   'maxBoost': 2.0,\n",
        "   'numActiveColumnsPerInhArea': 40,\n",
        "   'potentialPct': 0.8,\n",
        "   'seed': 1956,\n",
        "   'spVerbosity': 0,\n",
        "   'spatialImp': 'cpp',\n",
        "   'synPermActiveInc': 0.05,\n",
        "   'synPermConnected': 0.1,\n",
        "   'synPermInactiveDec': 0.03026339222239053},\n",
        "  'tpEnable': True,\n",
        "  'tpParams': {'activationThreshold': 15,\n",
        "   'cellsPerColumn': 32,\n",
        "   'columnCount': 2048,\n",
        "   'globalDecay': 0.0,\n",
        "   'initialPerm': 0.21,\n",
        "   'inputWidth': 2048,\n",
        "   'maxAge': 0,\n",
        "   'maxSegmentsPerCell': 128,\n",
        "   'maxSynapsesPerSegment': 32,\n",
        "   'minThreshold': 11,\n",
        "   'newSynapseCount': 20,\n",
        "   'outputType': 'normal',\n",
        "   'pamLength': 4,\n",
        "   'permanenceDec': 0.1,\n",
        "   'permanenceInc': 0.1,\n",
        "   'seed': 1960,\n",
        "   'temporalImp': 'cpp',\n",
        "   'verbosity': 0},\n",
        "  'trainSPNetOnlyIfRequested': False},\n",
        " 'predictAheadTime': None,\n",
        " 'version': 1}"
       ]
      }
     ],
     "prompt_number": 4
    },
    {
     "cell_type": "code",
     "collapsed": false,
     "input": [
      "# Founds params\n",
      "model_params = {'aggregationInfo': {'days': 0,\n",
      "  'fields': [],\n",
      "  'hours': 0,\n",
      "  'microseconds': 0,\n",
      "  'milliseconds': 0,\n",
      "  'minutes': 0,\n",
      "  'months': 0,\n",
      "  'seconds': 0,\n",
      "  'weeks': 0,\n",
      "  'years': 0},\n",
      " 'model': 'CLA',\n",
      " 'modelParams': {'anomalyParams': {u'anomalyCacheRecords': None,\n",
      "   u'autoDetectThreshold': None,\n",
      "   u'autoDetectWaitRecords': None},\n",
      "  'clParams': {'alpha': 0.07477514255532557,\n",
      "   'clVerbosity': 0,\n",
      "   'regionName': 'CLAClassifierRegion',\n",
      "   'steps': '1'},\n",
      "  'inferenceType': 'TemporalAnomaly',\n",
      "  'sensorParams': {'encoders': {u'sine': {'clipInput': True,\n",
      "     'fieldname': 'sine',\n",
      "     'maxval': 1.0,\n",
      "     'minval': -1.0,\n",
      "     'n': 444,\n",
      "     'name': 'sine',\n",
      "     'type': 'ScalarEncoder',\n",
      "     'w': 21}},\n",
      "   'sensorAutoReset': None,\n",
      "   'verbosity': 0},\n",
      "  'spEnable': True,\n",
      "  'spParams': {'columnCount': 2048,\n",
      "   'globalInhibition': 1,\n",
      "   'inputWidth': 0,\n",
      "   'maxBoost': 2.0,\n",
      "   'numActiveColumnsPerInhArea': 40,\n",
      "   'potentialPct': 0.8,\n",
      "   'seed': 1956,\n",
      "   'spVerbosity': 0,\n",
      "   'spatialImp': 'cpp',\n",
      "   'synPermActiveInc': 0.05,\n",
      "   'synPermConnected': 0.1,\n",
      "   'synPermInactiveDec': 0.03026339222239053},\n",
      "  'tpEnable': True,\n",
      "  'tpParams': {'activationThreshold': 15,\n",
      "   'cellsPerColumn': 32,\n",
      "   'columnCount': 2048,\n",
      "   'globalDecay': 0.0,\n",
      "   'initialPerm': 0.21,\n",
      "   'inputWidth': 2048,\n",
      "   'maxAge': 0,\n",
      "   'maxSegmentsPerCell': 128,\n",
      "   'maxSynapsesPerSegment': 32,\n",
      "   'minThreshold': 11,\n",
      "   'newSynapseCount': 20,\n",
      "   'outputType': 'normal',\n",
      "   'pamLength': 4,\n",
      "   'permanenceDec': 0.1,\n",
      "   'permanenceInc': 0.1,\n",
      "   'seed': 1960,\n",
      "   'temporalImp': 'cpp',\n",
      "   'verbosity': 0},\n",
      "  'trainSPNetOnlyIfRequested': False},\n",
      " 'predictAheadTime': None,\n",
      " 'version': 1}"
     ],
     "language": "python",
     "metadata": {},
     "outputs": [],
     "prompt_number": 4
    },
    {
     "cell_type": "markdown",
     "metadata": {},
     "source": [
      "# Create the model"
     ]
    },
    {
     "cell_type": "code",
     "collapsed": false,
     "input": [
      "model = ModelFactory.create(model_params)\n",
      "model.enableInference({\"predictedField\": \"sine\"})\n",
      "\n",
      "predictions = [model.run({\"sine\": d[1]}) for d in data[3:]]"
     ],
     "language": "python",
     "metadata": {},
     "outputs": [],
     "prompt_number": 9
    },
    {
     "cell_type": "code",
     "collapsed": false,
     "input": [
      "print predictions[300]"
     ],
     "language": "python",
     "metadata": {},
     "outputs": [
      {
       "output_type": "stream",
       "stream": "stdout",
       "text": [
        "ModelResult(\tpredictionNumber=300\n",
        "\trawInput={'sine': 0.18738131458572285}\n",
        "\tsensorInput=SensorInput(\tdataRow=(0.18738131458572285,)\n",
        "\tdataDict={'sine': 0.18738131458572285}\n",
        "\tdataEncodings=[array([ 0.,  0.,  0.,  0.,  0.,  0.,  0.,  0.,  0.,  0.,  0.,  0.,  0.,\n",
        "        0.,  0.,  0.,  0.,  0.,  0.,  0.,  0.,  0.,  0.,  0.,  0.,  0.,\n",
        "        0.,  0.,  0.,  0.,  0.,  0.,  0.,  0.,  0.,  0.,  0.,  0.,  0.,\n",
        "        0.,  0.,  0.,  0.,  0.,  0.,  0.,  0.,  0.,  0.,  0.,  0.,  0.,\n",
        "        0.,  0.,  0.,  0.,  0.,  0.,  0.,  0.,  0.,  0.,  0.,  0.,  0.,\n",
        "        0.,  0.,  0.,  0.,  0.,  0.,  0.,  0.,  0.,  0.,  0.,  0.,  0.,\n",
        "        0.,  0.,  0.,  0.,  0.,  0.,  0.,  0.,  0.,  0.,  0.,  0.,  0.,\n",
        "        0.,  0.,  0.,  0.,  0.,  0.,  0.,  0.,  0.,  0.,  0.,  0.,  0.,\n",
        "        0.,  0.,  0.,  0.,  0.,  0.,  0.,  0.,  0.,  0.,  0.,  0.,  0.,\n",
        "        0.,  0.,  0.,  0.,  0.,  0.,  0.,  0.,  0.,  0.,  0.,  0.,  0.,\n",
        "        0.,  0.,  0.,  0.,  0.,  0.,  0.,  0.,  0.,  0.,  0.,  0.,  0.,\n",
        "        0.,  0.,  0.,  0.,  0.,  0.,  0.,  0.,  0.,  0.,  0.,  0.,  0.,\n",
        "        0.,  0.,  0.,  0.,  0.,  0.,  0.,  0.,  0.,  0.,  0.,  0.,  0.,\n",
        "        0.,  0.,  0.,  0.,  0.,  0.,  0.,  0.,  0.,  0.,  0.,  0.,  0.,\n",
        "        0.,  0.,  0.,  0.,  0.,  0.,  0.,  0.,  0.,  0.,  0.,  0.,  0.,\n",
        "        0.,  0.,  0.,  1.,  1.,  1.,  1.,  1.,  1.,  1.,  1.,  1.,  1.,\n",
        "        1.,  1.,  1.,  1.,  1.,  1.,  1.,  1.,  1.,  1.,  1.,  0.,  0.,\n",
        "        0.,  0.,  0.,  0.,  0.,  0.,  0.,  0.,  0.,  0.,  0.,  0.,  0.,\n",
        "        0.,  0.,  0.,  0.,  0.,  0.,  0.,  0.,  0.,  0.,  0.,  0.,  0.,\n",
        "        0.,  0.,  0.,  0.,  0.,  0.,  0.,  0.,  0.,  0.,  0.,  0.,  0.,\n",
        "        0.,  0.,  0.,  0.,  0.,  0.,  0.,  0.,  0.,  0.,  0.,  0.,  0.,\n",
        "        0.,  0.,  0.,  0.,  0.,  0.,  0.,  0.,  0.,  0.,  0.,  0.,  0.,\n",
        "        0.,  0.,  0.,  0.,  0.,  0.,  0.,  0.,  0.,  0.,  0.,  0.,  0.,\n",
        "        0.,  0.,  0.,  0.,  0.,  0.,  0.,  0.,  0.,  0.,  0.,  0.,  0.,\n",
        "        0.,  0.,  0.,  0.,  0.,  0.,  0.,  0.,  0.,  0.,  0.,  0.,  0.,\n",
        "        0.,  0.,  0.,  0.,  0.,  0.,  0.,  0.,  0.,  0.,  0.,  0.,  0.,\n",
        "        0.,  0.,  0.,  0.,  0.,  0.,  0.,  0.,  0.,  0.,  0.,  0.,  0.,\n",
        "        0.,  0.,  0.,  0.,  0.,  0.,  0.,  0.,  0.,  0.,  0.,  0.,  0.,\n",
        "        0.,  0.,  0.,  0.,  0.,  0.,  0.,  0.,  0.,  0.,  0.,  0.,  0.,\n",
        "        0.,  0.,  0.,  0.,  0.,  0.,  0.,  0.,  0.,  0.,  0.,  0.,  0.,\n",
        "        0.,  0.,  0.,  0.,  0.,  0.,  0.,  0.,  0.,  0.,  0.,  0.,  0.,\n",
        "        0.,  0.,  0.,  0.,  0.,  0.,  0.,  0.,  0.,  0.,  0.,  0.,  0.,\n",
        "        0.,  0.,  0.,  0.,  0.,  0.,  0.,  0.,  0.,  0.,  0.,  0.,  0.,\n",
        "        0.,  0.,  0.,  0.,  0.,  0.,  0.,  0.,  0.,  0.,  0.,  0.,  0.,\n",
        "        0.,  0.], dtype=float32)]\n",
        "\tsequenceReset=0.0\n",
        "\tcategory=0\n",
        ")\n",
        "\tinferences={'multiStepPredictions': {1: {0.24868988716485571: 0.031688156796202557, 0.12533323356430282: 0.96831184320379737}}, 'multiStepBestPredictions': {1: 0.12533323356430282}, 'anomalyLabel': '[]', 'anomalyScore': 0.0}\n",
        "\tmetrics=None\n",
        "\tpredictedFieldIdx=0\n",
        "\tpredictedFieldName=sine\n",
        ")\n"
       ]
      }
     ],
     "prompt_number": 10
    },
    {
     "cell_type": "markdown",
     "metadata": {},
     "source": [
      "# Plot predictions"
     ]
    },
    {
     "cell_type": "code",
     "collapsed": false,
     "input": [
      "%matplotlib inline\n",
      "import matplotlib.pyplot as plt\n",
      "import matplotlib.gridspec as gridspec\n",
      "\n",
      "result_data = np.array([\n",
      "    [#p.inferences['multiStepPredictions'].values()[0].values()[0], \n",
      "     p.inferences['multiStepBestPredictions'].values()[0], \n",
      "     p.inferences['anomalyScore']] for p in predictions]).T\n",
      "\n",
      "print result_data[0]\n",
      "print result_data.shape"
     ],
     "language": "python",
     "metadata": {},
     "outputs": [
      {
       "output_type": "stream",
       "stream": "stdout",
       "text": [
        "[  1.87381315e-01   2.48689887e-01   3.09016994e-01 ...,  -1.25333234e-01\n",
        "  -6.27905195e-02  -2.84192335e-14]\n",
        "(2, 2997)\n"
       ]
      }
     ],
     "prompt_number": 17
    },
    {
     "cell_type": "code",
     "collapsed": false,
     "input": [
      "fig, axes = plt.subplots(nrows=2, ncols=1, figsize=(25, 10))\n",
      "fig.subplots_adjust(hspace=0)\n",
      "plt.setp([a.get_xticklabels() for a in fig.axes[:-1]], visible=False)\n",
      "\n",
      "for i, label in [(0, \"multiStepPredictions\"), (1, \"anomalyScore\")]:\n",
      "  axes[i].plot(result_data[:][i])\n",
      "  axes[i].set_title(label)"
     ],
     "language": "python",
     "metadata": {},
     "outputs": [
      {
       "metadata": {},
       "output_type": "display_data",
       "png": "[encoded data removed]",
       "text": [
        "<matplotlib.figure.Figure at 0x7fc15c48c790>"
       ]
      }
     ],
     "prompt_number": 18
    },
    {
     "cell_type": "markdown",
     "metadata": {},
     "source": [
      "# Running the model with shifted input"
     ]
    },
    {
     "cell_type": "code",
     "collapsed": false,
     "input": [
      "phase = 3\n",
      "angles2 = [((i * math.pi) / 50.0) + phase for i in range(ROWS)]\n",
      "data2 = np.array([(angle, math.sin(angle)) for angle in angles])\n",
      "print data2"
     ],
     "language": "python",
     "metadata": {},
     "outputs": [
      {
       "output_type": "stream",
       "stream": "stdout",
       "text": [
        "[[  0.00000000e+00   0.00000000e+00]\n",
        " [  6.28318531e-02   6.27905195e-02]\n",
        " [  1.25663706e-01   1.25333234e-01]\n",
        " ..., \n",
        " [  1.88307064e+02  -1.87381315e-01]\n",
        " [  1.88369896e+02  -1.25333234e-01]\n",
        " [  1.88432727e+02  -6.27905195e-02]]\n"
       ]
      }
     ],
     "prompt_number": 19
    },
    {
     "cell_type": "code",
     "collapsed": false,
     "input": [
      "model2 = ModelFactory.create(model_params)\n",
      "model2.enableInference({\"predictedField\": \"sine\"})\n",
      "\n",
      "predictions2 = [model.run({\"sine\": d[1]}) for d in data2]"
     ],
     "language": "python",
     "metadata": {},
     "outputs": [],
     "prompt_number": 20
    },
    {
     "cell_type": "code",
     "collapsed": false,
     "input": [
      "result_data2 = np.array([\n",
      "    [#p.inferences['multiStepPredictions'].values()[0].values()[0], \n",
      "     p.inferences['multiStepBestPredictions'].values()[0], \n",
      "     p.inferences['anomalyScore']] for p in predictions2]).T\n",
      "\n",
      "fig, axes = plt.subplots(nrows=2, ncols=1, figsize=(25, 10))\n",
      "plt.setp([a.get_xticklabels() for a in fig.axes[:-1]], visible=False)\n",
      "\n",
      "for i, label in [(0, \"multiStepPredictions\"), (1, \"anomalyScore\")]:\n",
      "  axes[i].plot(result_data2[:][i])\n",
      "  axes[i].set_title(label)"
     ],
     "language": "python",
     "metadata": {},
     "outputs": [
      {
       "metadata": {},
       "output_type": "display_data",
       "png": "[encoded data removed]",
       "text": [
        "<matplotlib.figure.Figure at 0x7fc164a24410>"
       ]
      }
     ],
     "prompt_number": 28
    },
    {
     "cell_type": "markdown",
     "metadata": {},
     "source": [
      "# Can we make the model \"dream\"?"
     ]
    },
    {
     "cell_type": "code",
     "collapsed": false,
     "input": [
      "start_point = np.random.random_sample()\n",
      "print start_point\n",
      "\n",
      "model = ModelFactory.create(model_params)\n",
      "model.enableInference({\"predictedField\": \"sine\"})\n"
     ],
     "language": "python",
     "metadata": {},
     "outputs": []
    }
   ],
   "metadata": {}
  }
 ]
}