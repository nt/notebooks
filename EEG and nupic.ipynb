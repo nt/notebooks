{
 "metadata": {
  "name": "",
  "signature": "sha256:4243cca01452aee9ba2e74a9dc4643496163894545fdb12e9d15ee815d47906f"
 },
 "nbformat": 3,
 "nbformat_minor": 0,
 "worksheets": [
  {
   "cells": [
    {
     "cell_type": "code",
     "collapsed": false,
     "input": [
      "import os, sys\n",
      "import scipy.io\n",
      "import numpy as np\n",
      "\n",
      "interictal = scipy.io.loadmat('/data/datasets/Dog_1/Dog_1_interictal_segment_0014.mat')\n",
      "seg_name =  [k for k in interictal.keys() if k not in [\"__version__\", '__header__', '__globals__']][0]\n",
      "data, data_length_sec, sampling_frequency, channels, sequence = interictal[seg_name][0][0]\n",
      "print data.shape"
     ],
     "language": "python",
     "metadata": {},
     "outputs": [
      {
       "output_type": "stream",
       "stream": "stdout",
       "text": [
        "(16, 239766)\n"
       ]
      }
     ],
     "prompt_number": 1
    },
    {
     "cell_type": "code",
     "collapsed": false,
     "input": [
      "fileHandle = open(\"/tmp/eeg.csv\",\"w\")\n",
      "writer = csv.writer(fileHandle)\n",
      "writer.writerow([\"angle\",\"sine\"])\n",
      "writer.writerow([\"float\",\"float\"])\n",
      "writer.writerow([\"\",\"\"])\n",
      "\n",
      "for row in data:\n",
      "  writer.writerow(row)"
     ],
     "language": "python",
     "metadata": {},
     "outputs": []
    }
   ],
   "metadata": {}
  }
 ]
}